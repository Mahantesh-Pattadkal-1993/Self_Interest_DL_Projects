{
  "nbformat": 4,
  "nbformat_minor": 0,
  "metadata": {
    "colab": {
      "name": "sample_model_run.ipynb",
      "provenance": [],
      "collapsed_sections": [],
      "toc_visible": true
    },
    "kernelspec": {
      "name": "python3",
      "display_name": "Python 3"
    },
    "language_info": {
      "name": "python"
    },
    "accelerator": "GPU"
  },
  "cells": [
    {
      "cell_type": "markdown",
      "metadata": {
        "id": "S4AETZTKbGIt"
      },
      "source": [
        "#Mixed data and multiple inputs\n",
        "###Predict the Laoding value\n",
        "\n",
        "This is a Regression problem, but the model has 2 branches to embed the solute id and mof_id and then with temperature the input is concatenated to pass it to the dense block to predict the loading value"
      ]
    },
    {
      "cell_type": "code",
      "metadata": {
        "id": "HNM5x7KibErL"
      },
      "source": [
        "# importing all the necessary ,libraries \n",
        "import tensorflow as tf\n",
        "import keras as kr\n",
        "import pandas as pd\n",
        "import xlrd as xl\n",
        "import numpy as np\n"
      ],
      "execution_count": null,
      "outputs": []
    },
    {
      "cell_type": "code",
      "metadata": {
        "colab": {
          "base_uri": "https://localhost:8080/",
          "height": 195
        },
        "id": "beZkGV-71iNC",
        "outputId": "4f84b9ec-9fea-430a-b755-06a83bdff2e5"
      },
      "source": [
        "data_final = pd.read_csv('/content/Data_final.csv', sep= ';')\n",
        "data_final.head()\n",
        "\n",
        "#################################################################################################################\n",
        "\n",
        "# mof_ID # Solute_ID # Tempearture normalised # laoding value\n",
        "#    1   #   1       #   0.30                 # 17\n",
        "#    1   #   2       #   0.31                 # 18\n",
        "#    4   #   3       #   0.23                 # 1\n",
        "#    1   #   4       #   0.34                 # 1.7\n",
        "#    2   #   3       #   0.17                 # 2.21\n"
      ],
      "execution_count": null,
      "outputs": [
        {
          "output_type": "execute_result",
          "data": {
            "text/html": [
              "<div>\n",
              "<style scoped>\n",
              "    .dataframe tbody tr th:only-of-type {\n",
              "        vertical-align: middle;\n",
              "    }\n",
              "\n",
              "    .dataframe tbody tr th {\n",
              "        vertical-align: top;\n",
              "    }\n",
              "\n",
              "    .dataframe thead th {\n",
              "        text-align: right;\n",
              "    }\n",
              "</style>\n",
              "<table border=\"1\" class=\"dataframe\">\n",
              "  <thead>\n",
              "    <tr style=\"text-align: right;\">\n",
              "      <th></th>\n",
              "      <th>MOF</th>\n",
              "      <th>SOLUTE</th>\n",
              "      <th>temperature</th>\n",
              "      <th>MOF_ID</th>\n",
              "      <th>SOLUTE_ID</th>\n",
              "      <th>Loading_value</th>\n",
              "      <th>temp_normalise</th>\n",
              "    </tr>\n",
              "  </thead>\n",
              "  <tbody>\n",
              "    <tr>\n",
              "      <th>0</th>\n",
              "      <td>((Me2NH2)In(NH2BDC)2)</td>\n",
              "      <td>carbon dioxide</td>\n",
              "      <td>273</td>\n",
              "      <td>1</td>\n",
              "      <td>1</td>\n",
              "      <td>2.12</td>\n",
              "      <td>0.29</td>\n",
              "    </tr>\n",
              "    <tr>\n",
              "      <th>1</th>\n",
              "      <td>((Me2NH2)In(NH2BDC)2)</td>\n",
              "      <td>carbon dioxide</td>\n",
              "      <td>298</td>\n",
              "      <td>1</td>\n",
              "      <td>1</td>\n",
              "      <td>2.31</td>\n",
              "      <td>0.20</td>\n",
              "    </tr>\n",
              "    <tr>\n",
              "      <th>2</th>\n",
              "      <td>((Me2NH2)In(NH2BDC)2)</td>\n",
              "      <td>nitrogen</td>\n",
              "      <td>77</td>\n",
              "      <td>1</td>\n",
              "      <td>2</td>\n",
              "      <td>7.06</td>\n",
              "      <td>1.00</td>\n",
              "    </tr>\n",
              "    <tr>\n",
              "      <th>3</th>\n",
              "      <td>([Co@Zn3(L)(H2L)(DMF)(DABCO)]</td>\n",
              "      <td>carbon dioxide</td>\n",
              "      <td>273</td>\n",
              "      <td>2</td>\n",
              "      <td>1</td>\n",
              "      <td>5.35</td>\n",
              "      <td>0.29</td>\n",
              "    </tr>\n",
              "    <tr>\n",
              "      <th>4</th>\n",
              "      <td>([Co@Zn3(L)(H2L)(DMF)(DABCO)]</td>\n",
              "      <td>nitrogen</td>\n",
              "      <td>77</td>\n",
              "      <td>2</td>\n",
              "      <td>2</td>\n",
              "      <td>8.80</td>\n",
              "      <td>1.00</td>\n",
              "    </tr>\n",
              "  </tbody>\n",
              "</table>\n",
              "</div>"
            ],
            "text/plain": [
              "                             MOF          SOLUTE  ...  Loading_value  temp_normalise\n",
              "0          ((Me2NH2)In(NH2BDC)2)  carbon dioxide  ...           2.12            0.29\n",
              "1          ((Me2NH2)In(NH2BDC)2)  carbon dioxide  ...           2.31            0.20\n",
              "2          ((Me2NH2)In(NH2BDC)2)        nitrogen  ...           7.06            1.00\n",
              "3  ([Co@Zn3(L)(H2L)(DMF)(DABCO)]  carbon dioxide  ...           5.35            0.29\n",
              "4  ([Co@Zn3(L)(H2L)(DMF)(DABCO)]        nitrogen  ...           8.80            1.00\n",
              "\n",
              "[5 rows x 7 columns]"
            ]
          },
          "metadata": {
            "tags": []
          },
          "execution_count": 3
        }
      ]
    },
    {
      "cell_type": "markdown",
      "metadata": {
        "id": "AnJSLN0RlQb-"
      },
      "source": [
        "# Building keras RS model"
      ]
    },
    {
      "cell_type": "code",
      "metadata": {
        "id": "ZBvvosqElQb_"
      },
      "source": [
        "import keras\n",
        "from keras.layers import Input\n",
        "from keras.models import Model\n",
        "from keras.layers import Concatenate\n",
        "from keras.layers import Embedding, Dense\n",
        "from keras.layers import Flatten\n",
        "from keras.models import Sequential\n",
        "from keras.layers import Embedding, merge\n",
        "from keras.layers import concatenate\n",
        "\n"
      ],
      "execution_count": null,
      "outputs": []
    },
    {
      "cell_type": "code",
      "metadata": {
        "id": "WYhtxUHklQcB"
      },
      "source": [
        "input_MOF = Input(shape=(1,))\n",
        "input_solute = Input(shape=(1,))\n",
        "input_temp = Input(shape=(1,))\n",
        "\n",
        "#Embedding the mof id into a tensor of shape (1,10)\n",
        "x1  = Embedding(data_final[\"MOF_ID\"].max() +1, 100, input_length=1)(input_MOF)\n",
        "x1_flatten= Flatten()(x1)\n",
        "#x2  =Dense(50, activation=\"relu\")(x1_flatten)\n",
        "x3  =Dense(10, activation=\"relu\")(x1_flatten)\n",
        "\n",
        "Embeddings_MOF = Model(inputs= input_MOF,outputs=x3)\n",
        "\n",
        "\n",
        "#Embedding the solute id into a tensor of shape (1,10)\n",
        "\n",
        "x2  = Embedding(data_final[\"SOLUTE_ID\"].max()+1, 10, input_length=1)(input_solute)\n",
        "x2_flatten = Flatten()(x2)\n",
        "Embeddings_solute = Model(inputs= input_solute,outputs=x2_flatten)\n",
        "\n",
        "\n",
        "\n",
        "\n",
        "#Concat the two embeddings and the temperature to make it (1,21) vector \n",
        "combined = concatenate([Embeddings_MOF.output, Embeddings_solute.output,input_temp])\n",
        "\n",
        "#Dense blokc at the end so that the concatenated vector is made smaller to (1,1) \n",
        "#z = Dense(10, activation=\"relu\")(combined)\n",
        "z_out = Dense(1, activation=\"relu\")(combined)\n",
        "# our model will accept the inputs of the two branches and the temperature value\n",
        "# then output a single value\n",
        "model = Model(inputs=[Embeddings_MOF.input, Embeddings_solute.input,input_temp], outputs=z_out)\n",
        "\n",
        "\n",
        "\n"
      ],
      "execution_count": 23,
      "outputs": []
    },
    {
      "cell_type": "code",
      "metadata": {
        "colab": {
          "base_uri": "https://localhost:8080/",
          "height": 564
        },
        "id": "m0dNzlpY6uGB",
        "outputId": "0402052f-1813-4067-b8fb-17258dc6cb40"
      },
      "source": [
        "from keras.utils import plot_model\n",
        "plot_model(model, to_file = \"model.png\")"
      ],
      "execution_count": null,
      "outputs": [
        {
          "output_type": "execute_result",
          "data": {
            "image/png": "[encoded data removed]",
            "text/plain": [
              "<IPython.core.display.Image object>"
            ]
          },
          "metadata": {
            "tags": []
          },
          "execution_count": 6
        }
      ]
    },
    {
      "cell_type": "code",
      "metadata": {
        "id": "iLajyhfP6x13"
      },
      "source": [
        "#Divide the data in 75% training and rest 25% testing \n",
        "\n",
        "from sklearn.model_selection import train_test_split\n",
        "X_train, X_test, y_train, y_test = train_test_split(data_final[[\"MOF_ID\",\"SOLUTE_ID\",\"temp_normalise\"]], data_final[\"Loading_value\"], test_size=0.25, random_state=42)"
      ],
      "execution_count": null,
      "outputs": []
    },
    {
      "cell_type": "code",
      "metadata": {
        "id": "8hyOvYSx8hCB"
      },
      "source": [
        "model.compile(loss='mean_absolute_error',\n",
        "    metrics=[tf.keras.metrics.MeanAbsoluteError()],\n",
        "                optimizer=tf.keras.optimizers.Adam(0.01))"
      ],
      "execution_count": 33,
      "outputs": []
    },
    {
      "cell_type": "code",
      "metadata": {
        "colab": {
          "base_uri": "https://localhost:8080/"
        },
        "id": "mPvgtjXQ9rD3",
        "outputId": "ec4b9ce9-5951-4a98-8efd-39233ecad584"
      },
      "source": [
        "model.fit(x= [[X_train[\"MOF_ID\"]],[X_train[\"SOLUTE_ID\"]],[X_train[\"temp_normalise\"]]],y=y_train,epochs=50, batch_size=100,validation_data=([X_test[\"MOF_ID\"],X_test[\"SOLUTE_ID\"],X_test[\"temp_normalise\"]],y_test))"
      ],
      "execution_count": 34,
      "outputs": [
        {
          "output_type": "stream",
          "text": [
            "Epoch 1/50\n",
            "51/51 [==============================] - 1s 9ms/step - loss: 9.3666 - mean_absolute_error: 9.3666 - val_loss: 8.0821 - val_mean_absolute_error: 8.0821\n",
            "Epoch 2/50\n",
            "51/51 [==============================] - 0s 6ms/step - loss: 8.4320 - mean_absolute_error: 8.4320 - val_loss: 7.9337 - val_mean_absolute_error: 7.9337\n",
            "Epoch 3/50\n",
            "51/51 [==============================] - 0s 6ms/step - loss: 6.1554 - mean_absolute_error: 6.1554 - val_loss: 8.1021 - val_mean_absolute_error: 8.1021\n",
            "Epoch 4/50\n",
            "51/51 [==============================] - 0s 6ms/step - loss: 6.0877 - mean_absolute_error: 6.0877 - val_loss: 8.2182 - val_mean_absolute_error: 8.2182\n",
            "Epoch 5/50\n",
            "51/51 [==============================] - 0s 6ms/step - loss: 5.4098 - mean_absolute_error: 5.4098 - val_loss: 8.2628 - val_mean_absolute_error: 8.2628\n",
            "Epoch 6/50\n",
            "51/51 [==============================] - 0s 7ms/step - loss: 5.7504 - mean_absolute_error: 5.7504 - val_loss: 8.1879 - val_mean_absolute_error: 8.1879\n",
            "Epoch 7/50\n",
            "51/51 [==============================] - 0s 6ms/step - loss: 6.4834 - mean_absolute_error: 6.4834 - val_loss: 8.2031 - val_mean_absolute_error: 8.2031\n",
            "Epoch 8/50\n",
            "51/51 [==============================] - 0s 6ms/step - loss: 5.0877 - mean_absolute_error: 5.0877 - val_loss: 8.1736 - val_mean_absolute_error: 8.1736\n",
            "Epoch 9/50\n",
            "51/51 [==============================] - 0s 6ms/step - loss: 5.1249 - mean_absolute_error: 5.1249 - val_loss: 8.1896 - val_mean_absolute_error: 8.1896\n",
            "Epoch 10/50\n",
            "51/51 [==============================] - 0s 6ms/step - loss: 4.6728 - mean_absolute_error: 4.6728 - val_loss: 8.2220 - val_mean_absolute_error: 8.2220\n",
            "Epoch 11/50\n",
            "51/51 [==============================] - 0s 6ms/step - loss: 5.1779 - mean_absolute_error: 5.1779 - val_loss: 8.2259 - val_mean_absolute_error: 8.2259\n",
            "Epoch 12/50\n",
            "51/51 [==============================] - 0s 6ms/step - loss: 5.3596 - mean_absolute_error: 5.3596 - val_loss: 8.1852 - val_mean_absolute_error: 8.1852\n",
            "Epoch 13/50\n",
            "51/51 [==============================] - 0s 7ms/step - loss: 4.5216 - mean_absolute_error: 4.5216 - val_loss: 8.1466 - val_mean_absolute_error: 8.1466\n",
            "Epoch 14/50\n",
            "51/51 [==============================] - 0s 6ms/step - loss: 4.0034 - mean_absolute_error: 4.0034 - val_loss: 8.2000 - val_mean_absolute_error: 8.2000\n",
            "Epoch 15/50\n",
            "51/51 [==============================] - 0s 7ms/step - loss: 4.1887 - mean_absolute_error: 4.1887 - val_loss: 8.1271 - val_mean_absolute_error: 8.1271\n",
            "Epoch 16/50\n",
            "51/51 [==============================] - 0s 6ms/step - loss: 3.8866 - mean_absolute_error: 3.8866 - val_loss: 8.1483 - val_mean_absolute_error: 8.1483\n",
            "Epoch 17/50\n",
            "51/51 [==============================] - 0s 6ms/step - loss: 4.0186 - mean_absolute_error: 4.0186 - val_loss: 8.1852 - val_mean_absolute_error: 8.1852\n",
            "Epoch 18/50\n",
            "51/51 [==============================] - 0s 6ms/step - loss: 4.1277 - mean_absolute_error: 4.1277 - val_loss: 8.1395 - val_mean_absolute_error: 8.1395\n",
            "Epoch 19/50\n",
            "51/51 [==============================] - 0s 6ms/step - loss: 4.4613 - mean_absolute_error: 4.4613 - val_loss: 8.0521 - val_mean_absolute_error: 8.0521\n",
            "Epoch 20/50\n",
            "51/51 [==============================] - 0s 6ms/step - loss: 3.3922 - mean_absolute_error: 3.3922 - val_loss: 8.1535 - val_mean_absolute_error: 8.1535\n",
            "Epoch 21/50\n",
            "51/51 [==============================] - 0s 6ms/step - loss: 3.5035 - mean_absolute_error: 3.5035 - val_loss: 8.1441 - val_mean_absolute_error: 8.1441\n",
            "Epoch 22/50\n",
            "51/51 [==============================] - 0s 7ms/step - loss: 3.8551 - mean_absolute_error: 3.8551 - val_loss: 8.1182 - val_mean_absolute_error: 8.1182\n",
            "Epoch 23/50\n",
            "51/51 [==============================] - 0s 6ms/step - loss: 3.5510 - mean_absolute_error: 3.5510 - val_loss: 8.1950 - val_mean_absolute_error: 8.1950\n",
            "Epoch 24/50\n",
            "51/51 [==============================] - 0s 7ms/step - loss: 3.4694 - mean_absolute_error: 3.4694 - val_loss: 8.0719 - val_mean_absolute_error: 8.0719\n",
            "Epoch 25/50\n",
            "51/51 [==============================] - 0s 6ms/step - loss: 3.6379 - mean_absolute_error: 3.6379 - val_loss: 8.0624 - val_mean_absolute_error: 8.0624\n",
            "Epoch 26/50\n",
            "51/51 [==============================] - 0s 6ms/step - loss: 4.3007 - mean_absolute_error: 4.3007 - val_loss: 8.0021 - val_mean_absolute_error: 8.0021\n",
            "Epoch 27/50\n",
            "51/51 [==============================] - 0s 6ms/step - loss: 3.6441 - mean_absolute_error: 3.6441 - val_loss: 8.0186 - val_mean_absolute_error: 8.0186\n",
            "Epoch 28/50\n",
            "51/51 [==============================] - 0s 6ms/step - loss: 3.2199 - mean_absolute_error: 3.2199 - val_loss: 7.9869 - val_mean_absolute_error: 7.9869\n",
            "Epoch 29/50\n",
            "51/51 [==============================] - 0s 6ms/step - loss: 3.4760 - mean_absolute_error: 3.4760 - val_loss: 8.0262 - val_mean_absolute_error: 8.0262\n",
            "Epoch 30/50\n",
            "51/51 [==============================] - 0s 6ms/step - loss: 3.5147 - mean_absolute_error: 3.5147 - val_loss: 8.0044 - val_mean_absolute_error: 8.0044\n",
            "Epoch 31/50\n",
            "51/51 [==============================] - 0s 6ms/step - loss: 2.8413 - mean_absolute_error: 2.8413 - val_loss: 8.0257 - val_mean_absolute_error: 8.0257\n",
            "Epoch 32/50\n",
            "51/51 [==============================] - 0s 7ms/step - loss: 3.0224 - mean_absolute_error: 3.0224 - val_loss: 7.9751 - val_mean_absolute_error: 7.9751\n",
            "Epoch 33/50\n",
            "51/51 [==============================] - 0s 6ms/step - loss: 3.3227 - mean_absolute_error: 3.3227 - val_loss: 8.0411 - val_mean_absolute_error: 8.0411\n",
            "Epoch 34/50\n",
            "51/51 [==============================] - 0s 6ms/step - loss: 3.5605 - mean_absolute_error: 3.5605 - val_loss: 7.9533 - val_mean_absolute_error: 7.9533\n",
            "Epoch 35/50\n",
            "51/51 [==============================] - 0s 6ms/step - loss: 3.4562 - mean_absolute_error: 3.4562 - val_loss: 7.9522 - val_mean_absolute_error: 7.9522\n",
            "Epoch 36/50\n",
            "51/51 [==============================] - 0s 6ms/step - loss: 2.7842 - mean_absolute_error: 2.7842 - val_loss: 7.9523 - val_mean_absolute_error: 7.9523\n",
            "Epoch 37/50\n",
            "51/51 [==============================] - 0s 7ms/step - loss: 2.9339 - mean_absolute_error: 2.9339 - val_loss: 7.9393 - val_mean_absolute_error: 7.9393\n",
            "Epoch 38/50\n",
            "51/51 [==============================] - 0s 7ms/step - loss: 2.9886 - mean_absolute_error: 2.9886 - val_loss: 7.9397 - val_mean_absolute_error: 7.9397\n",
            "Epoch 39/50\n",
            "51/51 [==============================] - 0s 6ms/step - loss: 3.2788 - mean_absolute_error: 3.2788 - val_loss: 7.9342 - val_mean_absolute_error: 7.9342\n",
            "Epoch 40/50\n",
            "51/51 [==============================] - 0s 6ms/step - loss: 3.2396 - mean_absolute_error: 3.2396 - val_loss: 7.8886 - val_mean_absolute_error: 7.8886\n",
            "Epoch 41/50\n",
            "51/51 [==============================] - 0s 6ms/step - loss: 2.9595 - mean_absolute_error: 2.9595 - val_loss: 7.9240 - val_mean_absolute_error: 7.9240\n",
            "Epoch 42/50\n",
            "51/51 [==============================] - 0s 7ms/step - loss: 2.9616 - mean_absolute_error: 2.9616 - val_loss: 7.8973 - val_mean_absolute_error: 7.8973\n",
            "Epoch 43/50\n",
            "51/51 [==============================] - 0s 7ms/step - loss: 2.7764 - mean_absolute_error: 2.7764 - val_loss: 7.8801 - val_mean_absolute_error: 7.8801\n",
            "Epoch 44/50\n",
            "51/51 [==============================] - 0s 6ms/step - loss: 3.0518 - mean_absolute_error: 3.0518 - val_loss: 7.8713 - val_mean_absolute_error: 7.8713\n",
            "Epoch 45/50\n",
            "51/51 [==============================] - 0s 6ms/step - loss: 2.7443 - mean_absolute_error: 2.7443 - val_loss: 7.8784 - val_mean_absolute_error: 7.8784\n",
            "Epoch 46/50\n",
            "51/51 [==============================] - 0s 6ms/step - loss: 2.7834 - mean_absolute_error: 2.7834 - val_loss: 7.8520 - val_mean_absolute_error: 7.8520\n",
            "Epoch 47/50\n",
            "51/51 [==============================] - 0s 6ms/step - loss: 2.7293 - mean_absolute_error: 2.7293 - val_loss: 7.8960 - val_mean_absolute_error: 7.8960\n",
            "Epoch 48/50\n",
            "51/51 [==============================] - 0s 6ms/step - loss: 3.1633 - mean_absolute_error: 3.1633 - val_loss: 7.8446 - val_mean_absolute_error: 7.8446\n",
            "Epoch 49/50\n",
            "51/51 [==============================] - 0s 7ms/step - loss: 2.7750 - mean_absolute_error: 2.7750 - val_loss: 7.8484 - val_mean_absolute_error: 7.8484\n",
            "Epoch 50/50\n",
            "51/51 [==============================] - 0s 6ms/step - loss: 2.6348 - mean_absolute_error: 2.6348 - val_loss: 7.8300 - val_mean_absolute_error: 7.8300\n"
          ],
          "name": "stdout"
        },
        {
          "output_type": "execute_result",
          "data": {
            "text/plain": [
              "<tensorflow.python.keras.callbacks.History at 0x7f0263bea910>"
            ]
          },
          "metadata": {
            "tags": []
          },
          "execution_count": 34
        }
      ]
    },
    {
      "cell_type": "code",
      "metadata": {
        "colab": {
          "base_uri": "https://localhost:8080/"
        },
        "id": "HRyOvjW3cj4d",
        "outputId": "bbd28366-c318-4fb1-beee-1256be011bad"
      },
      "source": [
        "temp = tf.constant([[1.0]])\n",
        "\n",
        "\n",
        "t_mof = tf.constant([[2]])\n",
        "\n",
        "t_solute = tf.constant([[3]])\n",
        "\n",
        "print(temp.shape,t_mof.shape,t_solute.shape)"
      ],
      "execution_count": 35,
      "outputs": [
        {
          "output_type": "stream",
          "text": [
            "(1, 1) (1, 1) (1, 1)\n"
          ],
          "name": "stdout"
        }
      ]
    },
    {
      "cell_type": "code",
      "metadata": {
        "id": "MCrauyZAzpfE",
        "colab": {
          "base_uri": "https://localhost:8080/"
        },
        "outputId": "7d472098-4269-4d71-d536-f3eaf6d3ae3a"
      },
      "source": [
        "#predicting on the model trained\n",
        "\n",
        "model([t_mof,t_solute,temp])"
      ],
      "execution_count": 36,
      "outputs": [
        {
          "output_type": "execute_result",
          "data": {
            "text/plain": [
              "<tf.Tensor: shape=(1, 1), dtype=float32, numpy=array([[6.354291]], dtype=float32)>"
            ]
          },
          "metadata": {
            "tags": []
          },
          "execution_count": 36
        }
      ]
    },
    {
      "cell_type": "code",
      "metadata": {
        "id": "wYuuSSgChtV8"
      },
      "source": [
        ""
      ],
      "execution_count": null,
      "outputs": []
    }
  ]
}